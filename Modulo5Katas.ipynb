{
 "cells": [
  {
   "cell_type": "markdown",
   "metadata": {},
   "source": [
    "## Ejericio 1"
   ]
  },
  {
   "cell_type": "code",
   "execution_count": 2,
   "metadata": {},
   "outputs": [],
   "source": [
    "# Crear variables para almacenar las dos distancias\n",
    "# ¡Asegúrate de quitar las comas!\n",
    "dist_tierra=149597870 #km\n",
    "dist_jupiter=778547200 #km"
   ]
  },
  {
   "cell_type": "code",
   "execution_count": 5,
   "metadata": {},
   "outputs": [
    {
     "name": "stdout",
     "output_type": "stream",
     "text": [
      "-628949330\n",
      "-390577533.93\n"
     ]
    }
   ],
   "source": [
    "# Calcular la distancia entre planetas\n",
    "dist_planetas=dist_tierra-dist_jupiter #km\n",
    "dist_planetas_millas=dist_planetas*0.621\n",
    "print(dist_planetas)\n",
    "print(dist_planetas_millas)\n"
   ]
  },
  {
   "cell_type": "markdown",
   "metadata": {},
   "source": [
    "## Ejercicio 2"
   ]
  },
  {
   "cell_type": "code",
   "execution_count": 8,
   "metadata": {},
   "outputs": [],
   "source": [
    "# Almacenar las entradas del usuario\n",
    "#Pista: variable = input(\"¿Cuál es tu nombre?\")\n",
    "dist_usuario_1=input('Ingresa la distancia del planeta 1 al sol')\n",
    "dist_usuario_2=input('Ingresa la distancia del planeta 2 al sol')\n"
   ]
  },
  {
   "cell_type": "code",
   "execution_count": 9,
   "metadata": {},
   "outputs": [],
   "source": [
    "# Convierte las cadenas de ambos planetas a números enteros\n",
    "dist_usuario_1_int=int(dist_usuario_1)\n",
    "dist_usuario_2_int=int(dist_usuario_2)"
   ]
  },
  {
   "cell_type": "code",
   "execution_count": 10,
   "metadata": {},
   "outputs": [
    {
     "name": "stdout",
     "output_type": "stream",
     "text": [
      "50300000\n",
      "31236300.0\n"
     ]
    }
   ],
   "source": [
    "# Realizar el cálculo y determinar el valor absoluto\n",
    "dist_res_km=abs(dist_usuario_1_int-dist_usuario_2_int)\n",
    "print(dist_res_km)\n",
    "# Convertir de KM a Millas\n",
    "dist_res_millas=abs(dist_usuario_1_int-dist_usuario_2_int)*0.621\n",
    "print(dist_res_millas)"
   ]
  }
 ],
 "metadata": {
  "interpreter": {
   "hash": "38a9ab613f40c178c72ce071206e341860e38e80f5f3fbbc15ad554e093d20c1"
  },
  "kernelspec": {
   "display_name": "Python 3.10.2 64-bit (windows store)",
   "language": "python",
   "name": "python3"
  },
  "language_info": {
   "codemirror_mode": {
    "name": "ipython",
    "version": 3
   },
   "file_extension": ".py",
   "mimetype": "text/x-python",
   "name": "python",
   "nbconvert_exporter": "python",
   "pygments_lexer": "ipython3",
   "version": "3.10.2"
  },
  "orig_nbformat": 4
 },
 "nbformat": 4,
 "nbformat_minor": 2
}
