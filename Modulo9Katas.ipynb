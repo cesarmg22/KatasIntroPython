{
 "cells": [
  {
   "cell_type": "markdown",
   "metadata": {},
   "source": [
    "## Ejercicio 1"
   ]
  },
  {
   "cell_type": "code",
   "execution_count": 9,
   "metadata": {},
   "outputs": [],
   "source": [
    "# Función para leer 3 tanques de combustible y muestre el promedio\n",
    "def lectura(lectura1,lectura2,lectura3):\n",
    "        promedio=(lectura1+lectura2+lectura3)/3\n",
    "        return f'Reporte: El tanque 1 tiene un {lectura1}% de combustible, El tanque 2 tiene un {lectura2}% de combustible, El tanque 3 tiene un {lectura3}% de combustible, EL promedio de combustible de los tanques es: {promedio}%'"
   ]
  },
  {
   "cell_type": "code",
   "execution_count": 10,
   "metadata": {},
   "outputs": [
    {
     "name": "stdout",
     "output_type": "stream",
     "text": [
      "Reporte: El tanque 1 tiene un 85% de combustible, El tanque 2 tiene un 75% de combustible, El tanque 3 tiene un 65% de combustible, EL promedio de combustible de los tanques es: 75.0%\n"
     ]
    }
   ],
   "source": [
    "# Llamamos a la función que genera el reporte print(funcion(tanque1, tanque2, tanque3))\n",
    "print(lectura(85,75,65))"
   ]
  },
  {
   "cell_type": "code",
   "execution_count": 13,
   "metadata": {},
   "outputs": [
    {
     "data": {
      "text/plain": [
       "75.0"
      ]
     },
     "execution_count": 13,
     "metadata": {},
     "output_type": "execute_result"
    }
   ],
   "source": [
    "# Función promedio \n",
    "def promedio(lectura1,lectura2,lectura3):\n",
    "    prom=(lectura1+lectura2+lectura3)/3\n",
    "    return prom\n",
    "promedio(85,75,65)"
   ]
  },
  {
   "cell_type": "code",
   "execution_count": 15,
   "metadata": {},
   "outputs": [
    {
     "data": {
      "text/plain": [
       "'Reporte: El tanque 1 tiene un 85% de combustible, El tanque 2 tiene un 75% de combustible, El tanque 3 tiene un 65% de combustible, EL promedio de combustible de los tanques es: 75.0%'"
      ]
     },
     "execution_count": 15,
     "metadata": {},
     "output_type": "execute_result"
    }
   ],
   "source": [
    "# Actualiza la función\n",
    "def lectura(lectura1,lectura2,lectura3):\n",
    "        return f'Reporte: El tanque 1 tiene un {lectura1}% de combustible, El tanque 2 tiene un {lectura2}% de combustible, El tanque 3 tiene un {lectura3}% de combustible, EL promedio de combustible de los tanques es: {promedio(lectura1,lectura2,lectura3)}%'\n",
    "lectura(85,75,65)"
   ]
  },
  {
   "cell_type": "markdown",
   "metadata": {},
   "source": [
    "## Ejercicio 2"
   ]
  },
  {
   "cell_type": "code",
   "execution_count": 17,
   "metadata": {},
   "outputs": [
    {
     "data": {
      "text/plain": [
       "'Reporte, El destino es: Marte, El tiempo al destino es de: 43 minutos, el combustibles del tanque 1 es 43%,el combustibles del tanque 2 es 13%, el combustibles del tanque 3 es 53%'"
      ]
     },
     "execution_count": 17,
     "metadata": {},
     "output_type": "execute_result"
    }
   ],
   "source": [
    "# Función con un informe preciso de la misión.\n",
    "def reporte(tiempo_dest,combus1,combus2,combus3,destino):\n",
    "    return f'Reporte, El destino es: {destino}, El tiempo al destino es de: {tiempo_dest} minutos, el combustibles del tanque 1 es {combus1}%,el combustibles del tanque 2 es {combus2}%, el combustibles del tanque 3 es {combus3}%'\n",
    "reporte(43,43,13,53,'Marte')"
   ]
  },
  {
   "cell_type": "code",
   "execution_count": 19,
   "metadata": {},
   "outputs": [
    {
     "data": {
      "text/plain": [
       "'Reporte, El destino es: Marte, El tiempo al destino es de: 60 minutos. La reserva de combustible es de: 750'"
      ]
     },
     "execution_count": 19,
     "metadata": {},
     "output_type": "execute_result"
    }
   ],
   "source": [
    "# Escribe tu nueva función de reporte considerando lo anterior\n",
    "def reporte(destino,*minutos,**reservas):\n",
    "    return f'Reporte, El destino es: {destino}, El tiempo al destino es de: {sum(minutos)} minutos. La reserva de combustible es de: {sum(reservas.values())}'\n",
    "reporte('Marte',20,20,20,tanque1=150,tanque2=250,tanque3=350)"
   ]
  },
  {
   "cell_type": "code",
   "execution_count": 25,
   "metadata": {},
   "outputs": [
    {
     "data": {
      "text/plain": [
       "'Reporte, El destino es: Marte, El tiempo al destino es de: 60 minutos. La reserva de combustible es de: 750 El tanque1 tiene la cantidad 150 de combustible.  El tanque2 tiene la cantidad 250 de combustible.  El tanque3 tiene la cantidad 350 de combustible. '"
      ]
     },
     "execution_count": 25,
     "metadata": {},
     "output_type": "execute_result"
    }
   ],
   "source": [
    "# Escribe tu nueva función\n",
    "def reporte(destino,*minutos,**reservas):\n",
    "    mensaje=f'Reporte, El destino es: {destino}, El tiempo al destino es de: {sum(minutos)} minutos. La reserva de combustible es de: {sum(reservas.values())}'\n",
    "    for tanque,cantidad in reservas.items():\n",
    "        mensaje+=f' El {tanque} tiene la cantidad {cantidad} de combustible. '\n",
    "    return mensaje\n",
    "\n",
    "reporte('Marte',20,20,20,tanque1=150,tanque2=250,tanque3=350)"
   ]
  }
 ],
 "metadata": {
  "interpreter": {
   "hash": "38a9ab613f40c178c72ce071206e341860e38e80f5f3fbbc15ad554e093d20c1"
  },
  "kernelspec": {
   "display_name": "Python 3.10.2 64-bit (windows store)",
   "language": "python",
   "name": "python3"
  },
  "language_info": {
   "codemirror_mode": {
    "name": "ipython",
    "version": 3
   },
   "file_extension": ".py",
   "mimetype": "text/x-python",
   "name": "python",
   "nbconvert_exporter": "python",
   "pygments_lexer": "ipython3",
   "version": "3.10.2"
  },
  "orig_nbformat": 4
 },
 "nbformat": 4,
 "nbformat_minor": 2
}
