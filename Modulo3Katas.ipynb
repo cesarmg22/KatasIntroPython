{
 "cells": [
  {
   "cell_type": "markdown",
   "metadata": {},
   "source": [
    "Ejercicio 1."
   ]
  },
  {
   "cell_type": "code",
   "execution_count": 1,
   "metadata": {},
   "outputs": [
    {
     "name": "stdout",
     "output_type": "stream",
     "text": [
      "Advertencia! velocidad de asteroide superior a 25 Km/s!\n"
     ]
    }
   ],
   "source": [
    "# Añadir el código necesario para crear una variable que guarde la velocidad del asteroide.\n",
    "# Escribe una expresión de prueba para calcular si necesita una advertencia.\n",
    "# Agregue las instrucciones que se ejecutarán si la expresión de prueba es true o false.\n",
    "velocidad_asteroide = 49\n",
    "\n",
    "if velocidad_asteroide > 25:\n",
    "    print(\"Advertencia! velocidad de asteroide superior a 25 Km/s!\")\n",
    "else:\n",
    "    print(\"La velocidad del asteroide es menor a 25 km/s\")\n"
   ]
  },
  {
   "cell_type": "markdown",
   "metadata": {},
   "source": [
    "Ejercicio 2"
   ]
  },
  {
   "cell_type": "code",
   "execution_count": 2,
   "metadata": {},
   "outputs": [
    {
     "name": "stdout",
     "output_type": "stream",
     "text": [
      "Continua con tu día\n"
     ]
    }
   ],
   "source": [
    "# Agrega el código para crear una variable para un asteroide que viaja a 19 km/s\n",
    "# Escribe varias expresiones de prueba para determinar si puedes ver el rayo de luz desde la tierra\n",
    "# Agrega las instrucciones que se ejecutarán si las expresiones de prueba son True o False\n",
    "\n",
    "velocidad_asteroide = 19\n",
    "if velocidad_asteroide >20:\n",
    "    print(\"Cuidado! Hay una luz en el cielo!\")\n",
    "elif velocidad_asteroide == 20:\n",
    "    print(\"Cuidado! Hay una luz en el cielo!\")\n",
    "else:\n",
    "    print(\"Continua con tu día\")"
   ]
  },
  {
   "cell_type": "markdown",
   "metadata": {},
   "source": [
    "Ejercicio 3."
   ]
  },
  {
   "cell_type": "code",
   "execution_count": 7,
   "metadata": {},
   "outputs": [
    {
     "name": "stdout",
     "output_type": "stream",
     "text": [
      "Cuidado! Se acerca un asteroide muy peligroso\n"
     ]
    }
   ],
   "source": [
    "# Agrega el código para crear nuevas variables para la velocidad y el tamaño del asteroide\n",
    "# Para probar el código, prueba con varias velocidades y tamaños\n",
    "# Escribe varias expresiones de prueba o combinaciones de expresiones de prueba para determinar qué mensaje se debe enviar a Tierra.\n",
    "velocidad_asteroide = 26\n",
    "tamaño_asteroide = 50\n",
    "if tamaño_asteroide > 25 and velocidad_asteroide >25:\n",
    "    print(\"Cuidado! Se acerca un asteroide muy peligroso\")\n",
    "elif velocidad_asteroide >= 20:\n",
    "    print(\"Cuidado! Hay una luz en el cielo!\")\n",
    "elif tamaño_asteroide < 25:\n",
    "    print(\"Continua con tu día!\")\n",
    "else:\n",
    "    print(\"Continua con tu día\")"
   ]
  }
 ],
 "metadata": {
  "interpreter": {
   "hash": "3ea38f68f25a2cfcafd527abf3308f49a1834566c61d237965231a13138dfe4b"
  },
  "kernelspec": {
   "display_name": "Python 3.10.2 64-bit",
   "language": "python",
   "name": "python3"
  },
  "language_info": {
   "codemirror_mode": {
    "name": "ipython",
    "version": 3
   },
   "file_extension": ".py",
   "mimetype": "text/x-python",
   "name": "python",
   "nbconvert_exporter": "python",
   "pygments_lexer": "ipython3",
   "version": "3.10.2"
  },
  "orig_nbformat": 4
 },
 "nbformat": 4,
 "nbformat_minor": 2
}
