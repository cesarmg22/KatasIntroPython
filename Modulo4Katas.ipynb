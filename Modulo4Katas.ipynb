{
 "cells": [
  {
   "cell_type": "markdown",
   "metadata": {},
   "source": [
    "## Ejercicio 1."
   ]
  },
  {
   "cell_type": "code",
   "execution_count": 2,
   "metadata": {},
   "outputs": [],
   "source": [
    "text = \"\"\"Interesting facts about the Moon. The Moon is Earth's only satellite. There are several interesting facts about the Moon and how it affects life here on Earth. \n",
    "On average, the Moon moves 4cm away from the Earth every year. This yearly drift is not significant enough to cause immediate effects on Earth. The highest daylight temperature of the Moon is 127 C.\"\"\""
   ]
  },
  {
   "cell_type": "code",
   "execution_count": 5,
   "metadata": {},
   "outputs": [
    {
     "data": {
      "text/plain": [
       "['Interesting facts about the Moon',\n",
       " \"The Moon is Earth's only satellite\",\n",
       " 'There are several interesting facts about the Moon and how it affects life here on Earth',\n",
       " '\\nOn average, the Moon moves 4cm away from the Earth every year',\n",
       " 'This yearly drift is not significant enough to cause immediate effects on Earth',\n",
       " 'The highest daylight temperature of the Moon is 127 C.']"
      ]
     },
     "execution_count": 5,
     "metadata": {},
     "output_type": "execute_result"
    }
   ],
   "source": [
    "# Añade el código necesario\n",
    "oraciones=text.split('. ')\n",
    "oraciones"
   ]
  },
  {
   "cell_type": "code",
   "execution_count": 6,
   "metadata": {},
   "outputs": [],
   "source": [
    "palabras_clave=['average','temperature','distance']"
   ]
  },
  {
   "cell_type": "code",
   "execution_count": 9,
   "metadata": {},
   "outputs": [
    {
     "name": "stdout",
     "output_type": "stream",
     "text": [
      "\n",
      "On average, the Moon moves 4cm away from the Earth every year\n",
      "The highest daylight temperature of the Moon is 127 C.\n"
     ]
    }
   ],
   "source": [
    "for i in oraciones:\n",
    "    for j in palabras_clave:\n",
    "        if j in i:\n",
    "            print (i)\n",
    "            break"
   ]
  },
  {
   "cell_type": "code",
   "execution_count": 11,
   "metadata": {},
   "outputs": [
    {
     "name": "stdout",
     "output_type": "stream",
     "text": [
      "\n",
      "On average, the Moon moves 4cm away from the Earth every year\n",
      "The highest daylight temperature of the Moon is 127 Celsius.\n"
     ]
    }
   ],
   "source": [
    "for i in oraciones:\n",
    "    for j in palabras_clave:\n",
    "        if j in i:\n",
    "            print (i.replace('C','Celsius'))\n",
    "            break"
   ]
  },
  {
   "cell_type": "markdown",
   "metadata": {},
   "source": [
    "# Ejercicio 2"
   ]
  },
  {
   "cell_type": "code",
   "execution_count": 12,
   "metadata": {},
   "outputs": [],
   "source": [
    "# Datos con los que vas a trabajar\n",
    "name = \"Moon\"\n",
    "gravity = 0.00162 # in kms\n",
    "planet = \"Earth\""
   ]
  },
  {
   "cell_type": "code",
   "execution_count": 14,
   "metadata": {},
   "outputs": [
    {
     "data": {
      "text/plain": [
       "'Gravedad en Earth y Moon'"
      ]
     },
     "execution_count": 14,
     "metadata": {},
     "output_type": "execute_result"
    }
   ],
   "source": [
    "# Creamos el título\n",
    "titulo=f'Gravedad en {planet} y {name}'\n",
    "titulo"
   ]
  },
  {
   "cell_type": "code",
   "execution_count": 18,
   "metadata": {},
   "outputs": [
    {
     "data": {
      "text/plain": [
       "'El planeta es: Earth La Gravedad de Moon es 1.6199999999999999 m/s2'"
      ]
     },
     "execution_count": 18,
     "metadata": {},
     "output_type": "execute_result"
    }
   ],
   "source": [
    "# Creamos la plantilla\n",
    "plantilla=f'El planeta es: {planet} La Gravedad de {name} es {gravity*1000} m/s2'\n",
    "plantilla"
   ]
  },
  {
   "cell_type": "code",
   "execution_count": 32,
   "metadata": {},
   "outputs": [
    {
     "data": {
      "text/plain": [
       "'Gravedad En Earth Y Moon El planeta es: Earth La Gravedad de Moon es 1.6199999999999999 m/s2'"
      ]
     },
     "execution_count": 32,
     "metadata": {},
     "output_type": "execute_result"
    }
   ],
   "source": [
    "# Unión de ambas cadenas\n",
    "union=f'{titulo.title()} {plantilla}'\n",
    "union"
   ]
  },
  {
   "cell_type": "code",
   "execution_count": 33,
   "metadata": {},
   "outputs": [],
   "source": [
    "# Nuevos datos muestra\n",
    "planet = 'Marte'\n",
    "gravity  = 0.00143\n",
    "name = 'Ganímedes'"
   ]
  },
  {
   "cell_type": "code",
   "execution_count": 34,
   "metadata": {},
   "outputs": [
    {
     "name": "stdout",
     "output_type": "stream",
     "text": [
      "Gravedad En Earth Y Moon El planeta es: Earth La Gravedad de Moon es 1.6199999999999999 m/s2\n"
     ]
    }
   ],
   "source": [
    "# Comprobamos la plantilla\n",
    "print(union)"
   ]
  },
  {
   "cell_type": "code",
   "execution_count": 36,
   "metadata": {},
   "outputs": [
    {
     "ename": "KeyError",
     "evalue": "'gravity*1000'",
     "output_type": "error",
     "traceback": [
      "\u001b[1;31m---------------------------------------------------------------------------\u001b[0m",
      "\u001b[1;31mKeyError\u001b[0m                                  Traceback (most recent call last)",
      "\u001b[1;32mc:\\Users\\TOSHIBA\\Documents\\Launch X\\Módulo4Katas.ipynb Cell 14'\u001b[0m in \u001b[0;36m<module>\u001b[1;34m\u001b[0m\n\u001b[0;32m      <a href='vscode-notebook-cell:/c%3A/Users/TOSHIBA/Documents/Launch%20X/M%C3%B3dulo4Katas.ipynb#ch0000014?line=0'>1</a>\u001b[0m \u001b[39m# Nueva plantilla\u001b[39;00m\n\u001b[0;32m      <a href='vscode-notebook-cell:/c%3A/Users/TOSHIBA/Documents/Launch%20X/M%C3%B3dulo4Katas.ipynb#ch0000014?line=1'>2</a>\u001b[0m union\u001b[39m=\u001b[39mplantilla\u001b[39m=\u001b[39m\u001b[39m'\u001b[39m\u001b[39mGravedad en \u001b[39m\u001b[39m{planet}\u001b[39;00m\u001b[39m y \u001b[39m\u001b[39m{name}\u001b[39;00m\u001b[39m El planeta es: \u001b[39m\u001b[39m{planet}\u001b[39;00m\u001b[39m La Gravedad de \u001b[39m\u001b[39m{name}\u001b[39;00m\u001b[39m es \u001b[39m\u001b[39m{\u001b[39m\u001b[39mgravity*1000} m/s2\u001b[39m\u001b[39m'\u001b[39m\n\u001b[1;32m----> <a href='vscode-notebook-cell:/c%3A/Users/TOSHIBA/Documents/Launch%20X/M%C3%B3dulo4Katas.ipynb#ch0000014?line=2'>3</a>\u001b[0m \u001b[39mprint\u001b[39m(union\u001b[39m.\u001b[39;49mformat(name\u001b[39m=\u001b[39;49m\u001b[39m'\u001b[39;49m\u001b[39mGanímedes\u001b[39;49m\u001b[39m'\u001b[39;49m,planet\u001b[39m=\u001b[39;49m\u001b[39m'\u001b[39;49m\u001b[39mMarte\u001b[39;49m\u001b[39m'\u001b[39;49m,gavity\u001b[39m=\u001b[39;49m\u001b[39m0.00143\u001b[39;49m\u001b[39m*\u001b[39;49m\u001b[39m1000\u001b[39;49m))\n",
      "\u001b[1;31mKeyError\u001b[0m: 'gravity*1000'"
     ]
    }
   ],
   "source": [
    "# Nueva plantilla\n",
    "union=plantilla='Gravedad en {planet} y {name} El planeta es: {planet} La Gravedad de {name} es {gravity*1000} m/s2'\n",
    "print(union.format(name='Ganímedes',planet='Marte',gavity=0.00143*1000))"
   ]
  },
  {
   "cell_type": "code",
   "execution_count": 38,
   "metadata": {},
   "outputs": [
    {
     "name": "stdout",
     "output_type": "stream",
     "text": [
      "Gravedad en Marte y Ganímedes El planeta es: Marte La Gravedad de Ganímedes es 1.4300000000000002 m/s2\n"
     ]
    }
   ],
   "source": [
    "# Pista: print(nueva_plantilla.format(variables))\n",
    "union=plantilla='Gravedad en {planet} y {name} El planeta es: {planet} La Gravedad de {name} es {gravity} m/s2'\n",
    "print(union.format(name='Ganímedes',planet='Marte',gravity=0.00143*1000))"
   ]
  }
 ],
 "metadata": {
  "interpreter": {
   "hash": "38a9ab613f40c178c72ce071206e341860e38e80f5f3fbbc15ad554e093d20c1"
  },
  "kernelspec": {
   "display_name": "Python 3.10.2 64-bit (windows store)",
   "language": "python",
   "name": "python3"
  },
  "language_info": {
   "codemirror_mode": {
    "name": "ipython",
    "version": 3
   },
   "file_extension": ".py",
   "mimetype": "text/x-python",
   "name": "python",
   "nbconvert_exporter": "python",
   "pygments_lexer": "ipython3",
   "version": "3.10.2"
  },
  "orig_nbformat": 4
 },
 "nbformat": 4,
 "nbformat_minor": 2
}
